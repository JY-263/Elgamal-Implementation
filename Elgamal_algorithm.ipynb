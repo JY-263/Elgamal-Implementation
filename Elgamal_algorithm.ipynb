{
  "nbformat": 4,
  "nbformat_minor": 0,
  "metadata": {
    "colab": {
      "name": "Elgamal algorithm.ipynb",
      "provenance": []
    },
    "kernelspec": {
      "name": "python3",
      "display_name": "Python 3"
    },
    "language_info": {
      "name": "python"
    }
  },
  "cells": [
    {
      "cell_type": "code",
      "execution_count": 1,
      "metadata": {
        "colab": {
          "base_uri": "https://localhost:8080/"
        },
        "id": "aq4j8ipqHvjV",
        "outputId": "f0ea74a5-14c9-4840-febd-a41a2a8bfccd"
      },
      "outputs": [
        {
          "output_type": "stream",
          "name": "stdout",
          "text": [
            "Collecting Crypto\n",
            "  Downloading crypto-1.4.1-py2.py3-none-any.whl (18 kB)\n",
            "Collecting shellescape\n",
            "  Downloading shellescape-3.8.1-py2.py3-none-any.whl (3.1 kB)\n",
            "Collecting Naked\n",
            "  Downloading Naked-0.1.31-py2.py3-none-any.whl (590 kB)\n",
            "\u001b[K     |████████████████████████████████| 590 kB 5.2 MB/s \n",
            "\u001b[?25hRequirement already satisfied: requests in /usr/local/lib/python3.7/dist-packages (from Naked->Crypto) (2.23.0)\n",
            "Requirement already satisfied: pyyaml in /usr/local/lib/python3.7/dist-packages (from Naked->Crypto) (3.13)\n",
            "Requirement already satisfied: chardet<4,>=3.0.2 in /usr/local/lib/python3.7/dist-packages (from requests->Naked->Crypto) (3.0.4)\n",
            "Requirement already satisfied: idna<3,>=2.5 in /usr/local/lib/python3.7/dist-packages (from requests->Naked->Crypto) (2.10)\n",
            "Requirement already satisfied: certifi>=2017.4.17 in /usr/local/lib/python3.7/dist-packages (from requests->Naked->Crypto) (2021.10.8)\n",
            "Requirement already satisfied: urllib3!=1.25.0,!=1.25.1,<1.26,>=1.21.1 in /usr/local/lib/python3.7/dist-packages (from requests->Naked->Crypto) (1.24.3)\n",
            "Installing collected packages: shellescape, Naked, Crypto\n",
            "Successfully installed Crypto-1.4.1 Naked-0.1.31 shellescape-3.8.1\n",
            "Collecting pyCrypto\n",
            "  Downloading pycrypto-2.6.1.tar.gz (446 kB)\n",
            "\u001b[K     |████████████████████████████████| 446 kB 5.0 MB/s \n",
            "\u001b[?25hBuilding wheels for collected packages: pyCrypto\n",
            "  Building wheel for pyCrypto (setup.py) ... \u001b[?25l\u001b[?25hdone\n",
            "  Created wheel for pyCrypto: filename=pycrypto-2.6.1-cp37-cp37m-linux_x86_64.whl size=499932 sha256=bf24bfaf55e17c798d01d61474d97b651f955dbfcae99abdb84931186b4c64da\n",
            "  Stored in directory: /root/.cache/pip/wheels/cf/85/ba/bbd7c96add459de7598fb424e5ff2309baf2095c844ac0f191\n",
            "Successfully built pyCrypto\n",
            "Installing collected packages: pyCrypto\n",
            "Successfully installed pyCrypto-2.6.1\n"
          ]
        }
      ],
      "source": [
        "!pip install Crypto\n",
        "!pip install pyCrypto"
      ]
    },
    {
      "cell_type": "code",
      "source": [
        "from Crypto.Util.number import inverse\n",
        "import sympy\n",
        "import random\n",
        "from binascii import hexlify, unhexlify\n",
        "\n",
        "def shared_secret(g,x,p):\n",
        "  # Shared Secret (h)\n",
        "  h = pow(g,x,p)\n",
        "  return h\n",
        "\n",
        "def encrypt(m,r,g,p,h):\n",
        "  c1 = pow(g,r,p)\n",
        "  c2 = (m * pow(h, r, p) ) % p\n",
        "  return c1,c2\n",
        "\n",
        "def decrypt(x,c1,c2,p):\n",
        "  s = pow(c1,x,p)\n",
        "  dm = (c2 * inverse(s,p)) % p\n",
        "  return dm\n",
        "\n",
        "if __name__ == \"__main__\":\n",
        "  input_message = input(\"Enter message to encrypt   : \")\n",
        "  inputbytes = str.encode(input_message)\n",
        "  m = int(hexlify(inputbytes), 16)\n",
        "  p = sympy.randprime(m*2, m*4)\n",
        "  g = sympy.randprime(int(m/2), m)\n",
        "  x = random.randint(int(m/2),m)\n",
        "  r = random.randint(int(m/2),m)\n",
        "\n",
        "  print(\"INPUT MESSAGE              : {}\".format(input_message))\n",
        "  print(\"MESSAGE as an int (M)      : {}\".format(m))\n",
        "  print(\"Prime number (P)           : {}\".format(p))\n",
        "  print(\"Generator (G)              : {}\".format(g))\n",
        "  print(\"Receiver's private key (X) : {}\".format(x))\n",
        "  print(\"Sender's private key (R)   : {}\".format(r))\n",
        "\n",
        "  h = shared_secret(g,x,p)\n",
        "  print(\"Shared secret (H)          : {}\".format(h))\n",
        "\n",
        "  c1, c2 = encrypt(m,r,g,p,h)\n",
        "  print(\"Encrypted Message (C1)     : {}\".format(c1))\n",
        "  print(\"Encrypted Message (C2)     : {}\".format(c2))\n",
        "\n",
        "  dm = decrypt(x,c1,c2,p)\n",
        "  print(\"Decrypted Integer (dm)     : {}\".format(dm))\n",
        "  x = format(dm, 'x')\n",
        "  print(\"Decrypted Hex (x)          : {}\".format(x))\n",
        "  message = unhexlify(x)\n",
        "  print(\"Decrypted Message          : {}\".format(message))"
      ],
      "metadata": {
        "colab": {
          "base_uri": "https://localhost:8080/"
        },
        "id": "UVmCmhYQH5Uv",
        "outputId": "c00485a5-8977-4c7e-dfe1-88d956237873"
      },
      "execution_count": 5,
      "outputs": [
        {
          "output_type": "stream",
          "name": "stdout",
          "text": [
            "Enter message to encrypt   : Jyoti\n",
            "INPUT MESSAGE              : Jyoti\n",
            "MESSAGE as an int (M)      : 319864927337\n",
            "Prime number (P)           : 1185777667259\n",
            "Generator (G)              : 239369432303\n",
            "Receiver's private key (X) : 265944494543\n",
            "Sender's private key (R)   : 265649940252\n",
            "Shared secret (H)          : 945374212602\n",
            "Encrypted Message (C1)     : 382392360652\n",
            "Encrypted Message (C2)     : 786269437579\n",
            "Decrypted Integer (dm)     : 319864927337\n",
            "Decrypted Hex (x)          : 4a796f7469\n",
            "Decrypted Message          : b'Jyoti'\n"
          ]
        }
      ]
    }
  ]
}